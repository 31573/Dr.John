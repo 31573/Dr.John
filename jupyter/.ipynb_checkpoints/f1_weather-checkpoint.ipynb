{
 "cells": [
  {
   "cell_type": "code",
   "execution_count": null,
   "id": "1f45e006",
   "metadata": {},
   "outputs": [],
   "source": [
    "import requests\n",
    "import pandas as pd\n",
    "from pprint import pprint\n",
    "import numpy as np\n",
    "import scipy\n",
    "from scipy.constants import convert_temperature\n",
    "import json\n",
    "from json import loads, dumps"
   ]
  },
  {
   "cell_type": "code",
   "execution_count": null,
   "id": "dcd8a9aa",
   "metadata": {},
   "outputs": [],
   "source": [
    "from config import api_key\n",
    "\n",
    "weather_urls = []\n",
    "for i in locations_csv.iterrows():\n",
    "    lat = i[1][0]\n",
    "    lon = i[1][1]\n",
    "    time = i[1][8]\n",
    "    \n",
    "    weather_urls.append(f'https://api.openweathermap.org/data/3.0/onecall/timemachine?lat={lat}&lon={lon}&dt={time}&appid={api_key}')"
   ]
  },
  {
   "cell_type": "code",
   "execution_count": null,
   "id": "1ac91dcb",
   "metadata": {},
   "outputs": [],
   "source": [
    "weather_urls[0]"
   ]
  },
  {
   "cell_type": "code",
   "execution_count": null,
   "id": "f07d14ee",
   "metadata": {},
   "outputs": [],
   "source": [
    "url_length = range(len(weather_urls))\n",
    "url_length"
   ]
  },
  {
   "cell_type": "code",
   "execution_count": null,
   "id": "5afc5219",
   "metadata": {},
   "outputs": [],
   "source": [
    "weather_results = []\n",
    "for i in url_length:\n",
    "    weather_results.append(requests.get(weather_urls[i]).json())"
   ]
  },
  {
   "cell_type": "code",
   "execution_count": null,
   "id": "35cc32aa",
   "metadata": {},
   "outputs": [],
   "source": [
    "weather_results"
   ]
  },
  {
   "cell_type": "code",
   "execution_count": null,
   "id": "d1825634",
   "metadata": {},
   "outputs": [],
   "source": [
    "weather_results_df = pd.DataFrame(weather_results)\n",
    "weather_results_df"
   ]
  },
  {
   "cell_type": "code",
   "execution_count": null,
   "id": "8a3e089e",
   "metadata": {},
   "outputs": [],
   "source": [
    "weather_data = []\n",
    "for i in weather_results_df['data'].items():\n",
    "    weather_data.append(i[1][0])"
   ]
  },
  {
   "cell_type": "code",
   "execution_count": null,
   "id": "7e74df08",
   "metadata": {
    "scrolled": true
   },
   "outputs": [],
   "source": [
    "weather_data"
   ]
  },
  {
   "cell_type": "code",
   "execution_count": null,
   "id": "3336725f",
   "metadata": {},
   "outputs": [],
   "source": [
    "weather_data_df = pd.DataFrame(weather_data)\n",
    "weather_data_df"
   ]
  },
  {
   "cell_type": "code",
   "execution_count": null,
   "id": "0840a709",
   "metadata": {},
   "outputs": [],
   "source": [
    "weather_data_weather = []\n",
    "for i in weather_data_df['weather'].items():\n",
    "    weather_data_weather.append(i[1][0])"
   ]
  },
  {
   "cell_type": "code",
   "execution_count": null,
   "id": "77812516",
   "metadata": {},
   "outputs": [],
   "source": [
    "weather_data_weather"
   ]
  },
  {
   "cell_type": "code",
   "execution_count": null,
   "id": "8782787b",
   "metadata": {},
   "outputs": [],
   "source": [
    "wdw_df = pd.DataFrame(weather_data_weather)\n",
    "wdw_df"
   ]
  },
  {
   "cell_type": "code",
   "execution_count": null,
   "id": "7ed8fe4a",
   "metadata": {},
   "outputs": [],
   "source": [
    "weather_combined_df = pd.merge(weather_data_df, wdw_df, left_index = True, right_index = True)\n",
    "weather_combined_df"
   ]
  },
  {
   "cell_type": "code",
   "execution_count": null,
   "id": "bfd6d256",
   "metadata": {},
   "outputs": [],
   "source": [
    "weather_df = weather_combined_df.drop(columns = 'weather')\n",
    "weather_df"
   ]
  },
  {
   "cell_type": "code",
   "execution_count": null,
   "id": "d5fed44c",
   "metadata": {},
   "outputs": [],
   "source": [
    "weather_df['date'] = (pd.to_datetime(weather_df['dt'], unit = 's')).dt.date"
   ]
  },
  {
   "cell_type": "code",
   "execution_count": null,
   "id": "7d0d81a5",
   "metadata": {},
   "outputs": [],
   "source": [
    "weather_df"
   ]
  },
  {
   "cell_type": "code",
   "execution_count": null,
   "id": "57fd0004",
   "metadata": {},
   "outputs": [],
   "source": [
    "weather_df['description'] = weather_df['description'].str.title()"
   ]
  },
  {
   "cell_type": "code",
   "execution_count": null,
   "id": "4b9414a9",
   "metadata": {
    "scrolled": true
   },
   "outputs": [],
   "source": [
    "weather_df"
   ]
  },
  {
   "cell_type": "code",
   "execution_count": null,
   "id": "a50f77a8",
   "metadata": {},
   "outputs": [],
   "source": [
    "weather_df[['temp', 'feels_like', 'dew_point']] = scipy.constants.convert_temperature(weather_df[['temp', 'feels_like', 'dew_point']], 'K', 'F')"
   ]
  },
  {
   "cell_type": "code",
   "execution_count": null,
   "id": "73a50c25",
   "metadata": {},
   "outputs": [],
   "source": [
    "weather_df[['temp', 'feels_like', 'dew_point']] = weather_df[['temp', 'feels_like', 'dew_point']].round(0).astype('int')"
   ]
  },
  {
   "cell_type": "code",
   "execution_count": null,
   "id": "7306b03f",
   "metadata": {
    "scrolled": true
   },
   "outputs": [],
   "source": [
    "weather_df"
   ]
  },
  {
   "cell_type": "code",
   "execution_count": null,
   "id": "7afd52c5",
   "metadata": {},
   "outputs": [],
   "source": [
    "weather_df = weather_df.drop(columns = ['dt', 'sunrise', 'sunset', 'pressure', 'dew_point', 'visibility', 'wind_deg', 'rain', 'wind_gust', 'id'])"
   ]
  },
  {
   "cell_type": "code",
   "execution_count": null,
   "id": "50068007",
   "metadata": {},
   "outputs": [],
   "source": [
    "weather_df"
   ]
  },
  {
   "cell_type": "code",
   "execution_count": null,
   "id": "3fc2c416",
   "metadata": {},
   "outputs": [],
   "source": [
    "weather_df.dtypes"
   ]
  },
  {
   "cell_type": "code",
   "execution_count": null,
   "id": "1776a501",
   "metadata": {},
   "outputs": [],
   "source": [
    "weather_df['date'] = pd.to_datetime(weather_df['date'])"
   ]
  },
  {
   "cell_type": "code",
   "execution_count": null,
   "id": "46997728",
   "metadata": {},
   "outputs": [],
   "source": [
    "weather_df.dtypes"
   ]
  },
  {
   "cell_type": "code",
   "execution_count": null,
   "id": "5c7ca21b",
   "metadata": {},
   "outputs": [],
   "source": [
    "weather_df.index.name = 'id'"
   ]
  },
  {
   "cell_type": "code",
   "execution_count": null,
   "id": "22b09c56",
   "metadata": {},
   "outputs": [],
   "source": [
    "weather_df.to_csv('data/f1_weather.csv')"
   ]
  }
 ],
 "metadata": {
  "kernelspec": {
   "display_name": "Python 3 (ipykernel)",
   "language": "python",
   "name": "python3"
  },
  "language_info": {
   "codemirror_mode": {
    "name": "ipython",
    "version": 3
   },
   "file_extension": ".py",
   "mimetype": "text/x-python",
   "name": "python",
   "nbconvert_exporter": "python",
   "pygments_lexer": "ipython3",
   "version": "3.10.13"
  }
 },
 "nbformat": 4,
 "nbformat_minor": 5
}
