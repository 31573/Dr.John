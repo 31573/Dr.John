{
 "cells": [
  {
   "cell_type": "code",
   "execution_count": 15,
   "id": "1c5e1ea3",
   "metadata": {},
   "outputs": [],
   "source": [
    "import psycopg2\n",
    "import pandas as pd\n",
    "\n",
    "conn = psycopg2.connect(database=\"f1_halo\",\n",
    "                       host=\"localhost\",\n",
    "                       user=\"postgres\",\n",
    "                       password = \"postgres\",\n",
    "                       port=\"5432\")"
   ]
  },
  {
   "cell_type": "code",
   "execution_count": 12,
   "id": "81e5db3b",
   "metadata": {},
   "outputs": [],
   "source": [
    "cursor = conn.cursor()"
   ]
  },
  {
   "cell_type": "code",
   "execution_count": 17,
   "id": "eca5f8c0",
   "metadata": {},
   "outputs": [],
   "source": [
    "cursor.execute(\"SELECT * from driver LIMIT 100;\")"
   ]
  },
  {
   "cell_type": "code",
   "execution_count": 18,
   "id": "026d6282",
   "metadata": {},
   "outputs": [
    {
     "name": "stdout",
     "output_type": "stream",
     "text": [
      "(1, 44, 'HAM', 'Lewis Hamilton')\n",
      "(2, 3, 'RIC', 'Daniel Ricciardo')\n",
      "(3, 6, 'ROS', 'Nico Rosberg')\n",
      "(4, 20, 'MAG', 'Kevin Magnussen')\n",
      "(5, 14, 'ALO', 'Fernando Alonso')\n",
      "(6, 25, 'VER', 'Jean-Eric Vergne')\n",
      "(7, 27, 'HUL', 'Nico Hulkenberg')\n",
      "(8, 26, 'KVY', 'Daniil Kvyat')\n",
      "(9, 19, 'MAS', 'Felipe Massa')\n",
      "(10, 22, 'BUT', 'Jenson Button')\n",
      "(11, 7, 'RAI', 'Kimi Raikkonen')\n",
      "(12, 5, 'VET', 'Sebastian Vettel')\n",
      "(13, 99, 'SUT', 'Adrian Sutil')\n",
      "(14, 10, 'KOB', 'Kamui Kobayashi')\n",
      "(15, 77, 'BOT', 'Valtteri Bottas')\n",
      "(16, 11, 'PER', 'Sergio Perez')\n",
      "(17, 4, 'CHI', 'Max Chilton')\n",
      "(18, 17, 'BIA', 'Jules Bianchi')\n",
      "(19, 9, 'ERI', 'Marcus Ericsson')\n",
      "(20, 21, 'GUT', 'Esteban Gutierrez')\n",
      "(21, 13, 'MAL', 'Pastor Maldonado')\n",
      "(22, 8, 'GRO', 'Romain Grosjean')\n",
      "(23, 45, 'LOT', 'Andre Lotterer')\n",
      "(24, 28, 'STE', 'Will Stevens')\n",
      "(25, 55, 'SAI', 'Carlos Sainz Jnr')\n",
      "(26, 12, 'NAS', 'Felipe Nasr')\n",
      "(27, 33, 'VER', 'Max Verstappen')\n",
      "(28, 98, 'MER', 'Roberto Merhi')\n",
      "(29, 53, 'RSS', 'Alexander Rossi')\n",
      "(30, 30, 'PAL', 'Jolyon Palmer')\n",
      "(31, 94, 'WEH', 'Pascal Wehrlein')\n",
      "(32, 88, 'HAR', 'Rio Haryanto')\n",
      "(33, 2, 'VAN', 'Stoffel Vandoorne')\n",
      "(34, 31, 'OCO', 'Esteban Ocon')\n",
      "(35, 99, 'GIO', 'Antonio Giovinazzi')\n",
      "(36, 18, 'STR', 'Lance Stroll')\n",
      "(37, 40, 'DIR', 'Paul di Resta')\n",
      "(38, 10, 'GAS', 'Pierre Gasly')\n",
      "(39, 28, 'HAR', 'Brendon Hartley')\n",
      "(40, 16, 'LEC', 'Charles Leclerc')\n",
      "(41, 35, 'SIR', 'Sergey Sirotkin')\n",
      "(42, 4, 'NOR', 'Lando Norris')\n",
      "(43, 23, 'ALB', 'Alexander Albon')\n",
      "(44, 63, 'RUS', 'George Russell')\n",
      "(45, 88, 'KUB', 'Robert Kubica')\n"
     ]
    }
   ],
   "source": [
    "rows = cursor.fetchall()\n",
    "for row in rows:\n",
    "    print(row)"
   ]
  },
  {
   "cell_type": "code",
   "execution_count": 19,
   "id": "5dc2c7b4",
   "metadata": {},
   "outputs": [
    {
     "data": {
      "text/html": [
       "<div>\n",
       "<style scoped>\n",
       "    .dataframe tbody tr th:only-of-type {\n",
       "        vertical-align: middle;\n",
       "    }\n",
       "\n",
       "    .dataframe tbody tr th {\n",
       "        vertical-align: top;\n",
       "    }\n",
       "\n",
       "    .dataframe thead th {\n",
       "        text-align: right;\n",
       "    }\n",
       "</style>\n",
       "<table border=\"1\" class=\"dataframe\">\n",
       "  <thead>\n",
       "    <tr style=\"text-align: right;\">\n",
       "      <th></th>\n",
       "      <th>0</th>\n",
       "      <th>1</th>\n",
       "      <th>2</th>\n",
       "      <th>3</th>\n",
       "    </tr>\n",
       "  </thead>\n",
       "  <tbody>\n",
       "    <tr>\n",
       "      <th>0</th>\n",
       "      <td>1</td>\n",
       "      <td>44</td>\n",
       "      <td>HAM</td>\n",
       "      <td>Lewis Hamilton</td>\n",
       "    </tr>\n",
       "    <tr>\n",
       "      <th>1</th>\n",
       "      <td>2</td>\n",
       "      <td>3</td>\n",
       "      <td>RIC</td>\n",
       "      <td>Daniel Ricciardo</td>\n",
       "    </tr>\n",
       "    <tr>\n",
       "      <th>2</th>\n",
       "      <td>3</td>\n",
       "      <td>6</td>\n",
       "      <td>ROS</td>\n",
       "      <td>Nico Rosberg</td>\n",
       "    </tr>\n",
       "    <tr>\n",
       "      <th>3</th>\n",
       "      <td>4</td>\n",
       "      <td>20</td>\n",
       "      <td>MAG</td>\n",
       "      <td>Kevin Magnussen</td>\n",
       "    </tr>\n",
       "    <tr>\n",
       "      <th>4</th>\n",
       "      <td>5</td>\n",
       "      <td>14</td>\n",
       "      <td>ALO</td>\n",
       "      <td>Fernando Alonso</td>\n",
       "    </tr>\n",
       "  </tbody>\n",
       "</table>\n",
       "</div>"
      ],
      "text/plain": [
       "   0   1    2                 3\n",
       "0  1  44  HAM    Lewis Hamilton\n",
       "1  2   3  RIC  Daniel Ricciardo\n",
       "2  3   6  ROS      Nico Rosberg\n",
       "3  4  20  MAG   Kevin Magnussen\n",
       "4  5  14  ALO   Fernando Alonso"
      ]
     },
     "execution_count": 19,
     "metadata": {},
     "output_type": "execute_result"
    }
   ],
   "source": [
    "df = pd.DataFrame(rows)\n",
    "df.head()"
   ]
  },
  {
   "cell_type": "code",
   "execution_count": 10,
   "id": "4c7ba58a",
   "metadata": {},
   "outputs": [],
   "source": [
    "cursor.close()\n",
    "conn.close()"
   ]
  },
  {
   "cell_type": "code",
   "execution_count": null,
   "id": "1d59ef61",
   "metadata": {},
   "outputs": [],
   "source": []
  }
 ],
 "metadata": {
  "kernelspec": {
   "display_name": "Python 3 (ipykernel)",
   "language": "python",
   "name": "python3"
  },
  "language_info": {
   "codemirror_mode": {
    "name": "ipython",
    "version": 3
   },
   "file_extension": ".py",
   "mimetype": "text/x-python",
   "name": "python",
   "nbconvert_exporter": "python",
   "pygments_lexer": "ipython3",
   "version": "3.10.13"
  }
 },
 "nbformat": 4,
 "nbformat_minor": 5
}
