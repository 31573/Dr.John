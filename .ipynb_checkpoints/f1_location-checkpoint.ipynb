{
 "cells": [
  {
   "cell_type": "code",
   "execution_count": null,
   "id": "1f45e006",
   "metadata": {},
   "outputs": [],
   "source": [
    "import requests\n",
    "import pandas as pd\n",
    "from pprint import pprint\n",
    "import numpy as np"
   ]
  },
  {
   "cell_type": "code",
   "execution_count": null,
   "id": "6d79a13b",
   "metadata": {},
   "outputs": [],
   "source": [
    "query_url = 'http://ergast.com/api/f1/2014/races.json'"
   ]
  },
  {
   "cell_type": "code",
   "execution_count": null,
   "id": "8c9a561c",
   "metadata": {},
   "outputs": [],
   "source": [
    "fourteen_schedule = requests.get(query_url).json()\n",
    "pprint(fourteen_schedule)"
   ]
  },
  {
   "cell_type": "code",
   "execution_count": null,
   "id": "4957960a",
   "metadata": {},
   "outputs": [],
   "source": [
    "fourteen_df = pd.DataFrame(fourteen_schedule)\n",
    "fourteen_df"
   ]
  },
  {
   "cell_type": "code",
   "execution_count": null,
   "id": "7223e065",
   "metadata": {},
   "outputs": [],
   "source": [
    "fourteen_df = pd.DataFrame(fourteen_df['MRData']['RaceTable']['Races'])\n",
    "fourteen_df"
   ]
  },
  {
   "cell_type": "code",
   "execution_count": null,
   "id": "c59a69f6",
   "metadata": {},
   "outputs": [],
   "source": [
    "locations = []\n",
    "test = []\n",
    "for i in fourteen_df['Circuit']:\n",
    "    print(i['Location'])\n",
    "    dict = i['Location']\n",
    "    locations.append(dict)"
   ]
  },
  {
   "cell_type": "code",
   "execution_count": null,
   "id": "fa331021",
   "metadata": {},
   "outputs": [],
   "source": [
    "locations"
   ]
  },
  {
   "cell_type": "code",
   "execution_count": null,
   "id": "414f9296",
   "metadata": {},
   "outputs": [],
   "source": [
    "locations_df = pd.DataFrame(locations)\n",
    "locations_df"
   ]
  },
  {
   "cell_type": "code",
   "execution_count": null,
   "id": "9ace5b0c",
   "metadata": {},
   "outputs": [],
   "source": [
    "locations_2014_df = pd.merge(locations_df, fourteen_df[['season', 'round']], left_index = True, right_index = True)\n",
    "locations_2014_df"
   ]
  },
  {
   "cell_type": "code",
   "execution_count": null,
   "id": "82dba98f",
   "metadata": {},
   "outputs": [],
   "source": [
    "locations_2014_df.dtypes"
   ]
  },
  {
   "cell_type": "code",
   "execution_count": null,
   "id": "655274e2",
   "metadata": {},
   "outputs": [],
   "source": [
    "locations_2014_df['lat'] = locations_2014_df['lat'].astype(float)\n",
    "locations_2014_df['long'] = locations_2014_df['long'].astype(float)\n",
    "locations_2014_df['season'] = locations_2014_df['season'].astype(int)\n",
    "locations_2014_df['round'] = locations_2014_df['round'].astype(int)"
   ]
  },
  {
   "cell_type": "code",
   "execution_count": null,
   "id": "04b27aff",
   "metadata": {},
   "outputs": [],
   "source": [
    "locations_2014_df.dtypes"
   ]
  },
  {
   "cell_type": "code",
   "execution_count": null,
   "id": "c8ef7d01",
   "metadata": {},
   "outputs": [],
   "source": [
    "def locations(year):\n",
    "    season = year\n",
    "    query_url = f'http://ergast.com/api/f1/{season}/races.json'\n",
    "\n",
    "    year_schedule = requests.get(query_url).json()\n",
    "    year_df = pd.DataFrame(year_schedule['MRData']['RaceTable']['Races'])\n",
    "\n",
    "    locations = []\n",
    "    for i in year_df['Circuit']:\n",
    "        loc_dict = i['Location']\n",
    "        locations.append(loc_dict)\n",
    "\n",
    "    locations_df = pd.DataFrame(locations)\n",
    "\n",
    "    locations_year_df = pd.merge(locations_df, year_df[['season', 'round']], left_index = True, right_index = True)\n",
    "    locations_year_df\n",
    "\n",
    "    locations_year_df.dtypes\n",
    "\n",
    "    locations_year_df['lat'] = locations_year_df['lat'].astype(float)\n",
    "    locations_year_df['long'] = locations_year_df['long'].astype(float)\n",
    "    locations_year_df['season'] = locations_year_df['season'].astype(int)\n",
    "    locations_year_df['round'] = locations_year_df['round'].astype(int)\n",
    "\n",
    "    return locations_year_df"
   ]
  },
  {
   "cell_type": "code",
   "execution_count": null,
   "id": "fb6ef9a0",
   "metadata": {},
   "outputs": [],
   "source": [
    "locations_2015_df = locations(2015)\n",
    "locations_2015_df"
   ]
  },
  {
   "cell_type": "code",
   "execution_count": null,
   "id": "cc5231fe",
   "metadata": {},
   "outputs": [],
   "source": [
    "locations_2016_df = locations(2016)\n",
    "locations_2016_df"
   ]
  },
  {
   "cell_type": "code",
   "execution_count": null,
   "id": "d315b6de",
   "metadata": {},
   "outputs": [],
   "source": [
    "locations_2017_df = locations(2017)\n",
    "locations_2017_df"
   ]
  },
  {
   "cell_type": "code",
   "execution_count": null,
   "id": "c1fdf7d3",
   "metadata": {},
   "outputs": [],
   "source": [
    "locations_2018_df = locations(2018)\n",
    "locations_2018_df"
   ]
  },
  {
   "cell_type": "code",
   "execution_count": null,
   "id": "631e9659",
   "metadata": {},
   "outputs": [],
   "source": [
    "locations_2019_df = locations(2019)\n",
    "locations_2019_df"
   ]
  },
  {
   "cell_type": "code",
   "execution_count": null,
   "id": "19575749",
   "metadata": {},
   "outputs": [],
   "source": [
    "locations_dfs = [locations_2014_df, locations_2015_df, locations_2016_df, locations_2017_df, locations_2018_df, locations_2019_df]\n",
    "locations_merged = pd.concat(locations_dfs, join = 'inner', axis = 0)\n",
    "locations_merged"
   ]
  },
  {
   "cell_type": "code",
   "execution_count": null,
   "id": "6330dc1f",
   "metadata": {},
   "outputs": [],
   "source": [
    "locations_merged_uniques = locations_merged.drop_duplicates(['lat', 'long'])\n",
    "locations_merged_uniques"
   ]
  },
  {
   "cell_type": "code",
   "execution_count": null,
   "id": "756e4bf9",
   "metadata": {},
   "outputs": [],
   "source": [
    "locations_uniques = locations_merged_uniques.reset_index()\n",
    "locations_uniques"
   ]
  },
  {
   "cell_type": "code",
   "execution_count": null,
   "id": "1330d656",
   "metadata": {},
   "outputs": [],
   "source": [
    "locations_merged.to_csv('data/f1_location_all.csv')\n",
    "locations_uniques.to_csv('data/f1_location_unique.csv')"
   ]
  },
  {
   "cell_type": "code",
   "execution_count": null,
   "id": "78502ad1",
   "metadata": {},
   "outputs": [],
   "source": [
    "locations_id = pd.read_csv('data/f1_location_all.csv')\n",
    "locations_id"
   ]
  },
  {
   "cell_type": "code",
   "execution_count": null,
   "id": "734ce143",
   "metadata": {},
   "outputs": [],
   "source": [
    "locations_id = locations_id.drop(columns = 'Unnamed: 0')"
   ]
  },
  {
   "cell_type": "code",
   "execution_count": null,
   "id": "538bd1c1",
   "metadata": {},
   "outputs": [],
   "source": [
    "locations_id.index = range(1, len(locations_id)+1)\n",
    "locations_id.index.name = 'id'"
   ]
  },
  {
   "cell_type": "code",
   "execution_count": null,
   "id": "4db3a3d8",
   "metadata": {},
   "outputs": [],
   "source": [
    "locations_id.to_csv('data/f1_locations_id.csv')"
   ]
  }
 ],
 "metadata": {
  "kernelspec": {
   "display_name": "Python 3 (ipykernel)",
   "language": "python",
   "name": "python3"
  },
  "language_info": {
   "codemirror_mode": {
    "name": "ipython",
    "version": 3
   },
   "file_extension": ".py",
   "mimetype": "text/x-python",
   "name": "python",
   "nbconvert_exporter": "python",
   "pygments_lexer": "ipython3",
   "version": "3.10.13"
  }
 },
 "nbformat": 4,
 "nbformat_minor": 5
}
